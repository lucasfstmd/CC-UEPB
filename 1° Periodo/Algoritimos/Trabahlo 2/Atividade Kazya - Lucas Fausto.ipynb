{
 "cells": [
  {
   "cell_type": "code",
   "execution_count": 38,
   "id": "a3552606",
   "metadata": {},
   "outputs": [
    {
     "name": "stdout",
     "output_type": "stream",
     "text": [
      "[4, 5, 9, 4, 13, 9]\n"
     ]
    }
   ],
   "source": [
    "# Questão 1\n",
    "\n",
    "def fetuccine(termo1,termo2,n):\n",
    "\n",
    "    lista = []\n",
    "    soma = 0\n",
    "    sequencia = 0\n",
    "\n",
    "    if n < 3:\n",
    "        print(\"Não existe sequncia menor que 3! \")\n",
    "\n",
    "    else:\n",
    "        lista.append(termo1)\n",
    "        lista.append(termo2)\n",
    "        for i in range(3, n+1):\n",
    "            if i % 2 == 0:\n",
    "                soma = termo2 - termo1\n",
    "                lista.append(soma)\n",
    "            \n",
    "            else:\n",
    "                soma = termo2 + termo1\n",
    "                lista.append(soma)\n",
    "       \n",
    "            termo1 = lista[sequencia + 1]\n",
    "            termo2 = lista[sequencia + 2]\n",
    "            sequencia += 1\n",
    "      \n",
    "        print(lista)\n",
    "\n",
    "        \n",
    "fetuccine(4,5,6)    "
   ]
  },
  {
   "cell_type": "code",
   "execution_count": 37,
   "id": "2321f1da",
   "metadata": {},
   "outputs": [
    {
     "name": "stdout",
     "output_type": "stream",
     "text": [
      "[4, 5, 6]\n",
      "[1, 2, 3]\n",
      " \n",
      "[5, 7, 9]\n"
     ]
    }
   ],
   "source": [
    "# Questão 2\n",
    "\n",
    "def somaElementosLista(lista1,lista2):\n",
    "    \n",
    "    lista1.reverse()\n",
    "    lista2.reverse()\n",
    "\n",
    "    while len(lista1) != len(lista2):\n",
    "        if len(lista1) > len(lista2):\n",
    "            lista2.append(0)\n",
    "        elif len(lista2) > len(lista1):\n",
    "            lista1.append(0)\n",
    "        \n",
    "    lista1.append(0)\n",
    "    lista2.append(0)\n",
    "    \n",
    "\n",
    "    resultado = []\n",
    "\n",
    "\n",
    "    for i in range(0, len(lista1)):\n",
    "        soma = (lista1[i] + lista2[i])\n",
    "        if soma > 9:\n",
    "            soma = soma - 10\n",
    "            lista1[i+1] += 1\n",
    "        \n",
    "        resultado.append(soma)\n",
    "\n",
    "    resultado.reverse()\n",
    "\n",
    "    if resultado[0] == 0:\n",
    "        del resultado[0]\n",
    "    \n",
    "    lista1.reverse()\n",
    "    if lista1[0] == 0:\n",
    "        del lista1[0]\n",
    "    \n",
    "    lista2.reverse()\n",
    "    if lista2[0] == 0:\n",
    "        del lista2[0]\n",
    "    \n",
    "    print(lista1)\n",
    "    print(lista2)\n",
    "    print(\" \")\n",
    "    print(resultado)\n",
    "    \n",
    "somaElementosLista([4,5,6], [1,2,3])"
   ]
  },
  {
   "cell_type": "code",
   "execution_count": null,
   "id": "bbde093e",
   "metadata": {},
   "outputs": [],
   "source": []
  }
 ],
 "metadata": {
  "kernelspec": {
   "display_name": "Python 3",
   "language": "python",
   "name": "python3"
  },
  "language_info": {
   "codemirror_mode": {
    "name": "ipython",
    "version": 3
   },
   "file_extension": ".py",
   "mimetype": "text/x-python",
   "name": "python",
   "nbconvert_exporter": "python",
   "pygments_lexer": "ipython3",
   "version": "3.8.8"
  }
 },
 "nbformat": 4,
 "nbformat_minor": 5
}
