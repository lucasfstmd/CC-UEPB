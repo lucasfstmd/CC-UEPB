{
 "cells": [
  {
   "cell_type": "code",
   "execution_count": 3,
   "id": "ff9ab3c9",
   "metadata": {},
   "outputs": [
    {
     "name": "stdout",
     "output_type": "stream",
     "text": [
      "2\n",
      "O número informado foi 2\n"
     ]
    }
   ],
   "source": [
    "numero = input()\n",
    "print(\"O número informado foi\", numero)"
   ]
  },
  {
   "cell_type": "code",
   "execution_count": 13,
   "id": "a31b9703",
   "metadata": {},
   "outputs": [
    {
     "name": "stdout",
     "output_type": "stream",
     "text": [
      "Digite o primeiro numero: 6\n",
      "Digite o segundo numero: 7\n",
      "A soma dos numeros foi: 13\n"
     ]
    }
   ],
   "source": [
    "numero1 = int(input(\"Digite o primeiro numero: \"))\n",
    "numero2 = int(input(\"Digite o segundo numero: \"))\n",
    "\n",
    "print(\"A soma dos numeros foi:\", numero1 + numero2)"
   ]
  },
  {
   "cell_type": "code",
   "execution_count": 11,
   "id": "89f7fc92",
   "metadata": {},
   "outputs": [
    {
     "name": "stdout",
     "output_type": "stream",
     "text": [
      "Digite a 1 nota do Bimestre: 7.8\n",
      "Digite a 2 nota do Bimestre: 7.3\n",
      "Digite a 3 nota do Bimestre: 7.2\n",
      "Digite a 4 nota do Bimestre: 7.1\n",
      "Sua media foi:  7.35\n"
     ]
    }
   ],
   "source": [
    "nota1 = float(input(\"Digite a 1 nota do Bimestre: \"))\n",
    "nota2 = float(input(\"Digite a 2 nota do Bimestre: \"))\n",
    "nota3 = float(input(\"Digite a 3 nota do Bimestre: \"))\n",
    "nota4 = float(input(\"Digite a 4 nota do Bimestre: \"))\n",
    "\n",
    "print(\"Sua media foi: \", (nota1 + nota2 + nota3 + nota4)/4)"
   ]
  },
  {
   "cell_type": "code",
   "execution_count": 29,
   "id": "4ca592e2",
   "metadata": {},
   "outputs": [
    {
     "name": "stdout",
     "output_type": "stream",
     "text": [
      "Digite o valor em metros: 3\n",
      "O valor em centimetros é: 300.0\n"
     ]
    }
   ],
   "source": [
    "valorM = float(input(\"Digite o valor em metros: \")) \n",
    "\n",
    "print(\"O valor em centimetros é:\", valorM * 100)"
   ]
  },
  {
   "cell_type": "code",
   "execution_count": 18,
   "id": "6d8f668e",
   "metadata": {},
   "outputs": [
    {
     "name": "stdout",
     "output_type": "stream",
     "text": [
      "Digite o valor do raio: 2\n",
      "A area do circulo foi:  12.56\n"
     ]
    }
   ],
   "source": [
    "raio = float(input(\"Digite o valor do raio: \"))\n",
    "\n",
    "print(\"A area do circulo foi: \", raio ** 2 * 3.14)"
   ]
  },
  {
   "cell_type": "code",
   "execution_count": 19,
   "id": "2d0b6979",
   "metadata": {},
   "outputs": [
    {
     "name": "stdout",
     "output_type": "stream",
     "text": [
      "Digite a base: 10\n",
      "Digite a altura: 8\n",
      "O dobro desta area foi:  160.0\n"
     ]
    }
   ],
   "source": [
    "base = float(input(\"Digite a base: \"))\n",
    "altura = float(input(\"Digite a altura: \"))\n",
    "\n",
    "print(\"O dobro desta area foi: \", (base * altura) * 2)"
   ]
  },
  {
   "cell_type": "code",
   "execution_count": 20,
   "id": "c247ea28",
   "metadata": {},
   "outputs": [
    {
     "name": "stdout",
     "output_type": "stream",
     "text": [
      "Digite quanto voce ganha por hora: 12\n",
      "Digite quantas horas voce trabalha por mes: 180\n",
      "Voce ganha por mes:  2160.0\n"
     ]
    }
   ],
   "source": [
    "ganhoHora = float(input(\"Digite quanto voce ganha por hora: \"))\n",
    "horasMeses = float(input(\"Digite quantas horas voce trabalha por mes: \"))\n",
    "\n",
    "print(\"Voce ganha por mes: \", horasMeses * ganhoHora)\n"
   ]
  },
  {
   "cell_type": "code",
   "execution_count": 25,
   "id": "6ba9510c",
   "metadata": {},
   "outputs": [
    {
     "name": "stdout",
     "output_type": "stream",
     "text": [
      "Digite a temperatura em Farenheit: 59\n",
      "A temperatura em celsius:  15.0\n"
     ]
    }
   ],
   "source": [
    "temperaturaF = int(input(\"Digite a temperatura em Farenheit: \"))\n",
    "\n",
    "print(\"A temperatura em celsius: \", (5 * (temperaturaF - 32) / 9))"
   ]
  },
  {
   "cell_type": "code",
   "execution_count": 28,
   "id": "d99106cb",
   "metadata": {},
   "outputs": [
    {
     "name": "stdout",
     "output_type": "stream",
     "text": [
      "Digite a temperatura em Celsius: 37\n",
      "A temperatura em Farenheit:  98.60000000000001\n"
     ]
    }
   ],
   "source": [
    "temperaturaC = int(input(\"Digite a temperatura em Celsius: \"))\n",
    "\n",
    "print(\"A temperatura em Farenheit: \", (temperaturaC * 1.8 + 32))"
   ]
  },
  {
   "cell_type": "code",
   "execution_count": null,
   "id": "2d0e6b61",
   "metadata": {},
   "outputs": [],
   "source": []
  }
 ],
 "metadata": {
  "kernelspec": {
   "display_name": "Python 3",
   "language": "python",
   "name": "python3"
  },
  "language_info": {
   "codemirror_mode": {
    "name": "ipython",
    "version": 3
   },
   "file_extension": ".py",
   "mimetype": "text/x-python",
   "name": "python",
   "nbconvert_exporter": "python",
   "pygments_lexer": "ipython3",
   "version": "3.8.8"
  }
 },
 "nbformat": 4,
 "nbformat_minor": 5
}
