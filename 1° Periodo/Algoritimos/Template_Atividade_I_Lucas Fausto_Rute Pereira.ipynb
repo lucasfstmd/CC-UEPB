{
 "cells": [
  {
   "cell_type": "markdown",
   "metadata": {},
   "source": [
    "- RUTE PEREIRA DA SILVA\n",
    "- LUCAS FAUSTO MEDEIROS"
   ]
  },
  {
   "cell_type": "markdown",
   "metadata": {},
   "source": [
    "Instruções: \n",
    "\n",
    "- Códigos que apresentarem erros de compilação ou execução não serão considerados\n",
    "\n",
    "- CUIDADO COM O PLÁGIO DOS CÓDIGOS\n",
    "\n",
    "- Verifiquem o correto uso dos tipos das variáveis (int, float..)\n",
    "\n",
    "- Cuidado com os nomes das variáveis, as mesmas devem ter nomes significativos\n",
    "\n",
    "- Fazer validação para os dados de entrada caso algum valor numérico informado seja negativo ou zero nas questões 1 e 2. Informe mensagens de valores inválidos. \n"
   ]
  },
  {
   "cell_type": "code",
   "execution_count": null,
   "metadata": {},
   "outputs": [],
   "source": [
    "# Questão 1 - Colocar aqui o código da questão\n",
    "\n",
    "qnt_racao = float(input(\"Digite o peso do saco de ração: \"))\n",
    "qnt_p_gato1 = float(input(\"Digite quanto para o gato 1: \"))\n",
    "qnt_p_gato2 = float(input(\"Digite quanto para o gato 2: \"))\n",
    " \n",
    "if qnt_racao <= 0 and qnt_p_gato1 <= 0 and qnt_p_gato2 <= 0:\n",
    "    print(\"Valor invalido!\")\n",
    "    \n",
    "else: \n",
    "    qnt_racao = qnt_racao * 1000\n",
    "    qnt_p_gatos = qnt_p_gato1 + qnt_p_gato2\n",
    "    for i in range(5):\n",
    "        qnt_racao = qnt_racao - qnt_p_gatos\n",
    "    print(\"Apos 5 dias, restará: \", format(qnt_racao),\"g\")"
   ]
  },
  {
   "cell_type": "code",
   "execution_count": null,
   "metadata": {},
   "outputs": [],
   "source": [
    "# Questão 2 - Colocar aqui o código da questão\n",
    "\n",
    "num_conta = int(input(\"Digite o numero da conta: \"))\n",
    "qnt_metro3 = float(input(\"Digite quantos m³ consumidos no mês: \"))\n",
    "tipo_consum = input(\"Digite qual o tipo do consumidor (residencial, comercial ou industrial): \")\n",
    "\n",
    "if qnt_metro3 <= 0:\n",
    "    print(\"Valor em m³ invalido! \")\n",
    "\n",
    "elif tipo_consum == \"residencial\":\n",
    "        taxa = 50\n",
    "        add_m3 = 0.05\n",
    "        conta = taxa + (add_m3 * qnt_metro3)\n",
    "        \n",
    "        print(\"O valor da conta\", format(num_conta), \"foi: \", format(conta))\n",
    "        \n",
    "elif tipo_consum == \"comercial\":\n",
    "        if qnt_metro3 <= 80:\n",
    "            conta = 500\n",
    "        \n",
    "        else:\n",
    "            taxa = 500\n",
    "            add_m3 = 0.25\n",
    "            conta = taxa + (add_m3 * (qnt_metro3 - 80))\n",
    "        \n",
    "        print(\"O valor da conta\", format(num_conta), \"foi: \", format(conta))\n",
    "        \n",
    "elif tipo_consum == \"industrial\":\n",
    "        if qnt_metro3 <= 100:\n",
    "            conta = 800\n",
    "        \n",
    "        else:\n",
    "            taxa = 800\n",
    "            add_m3 = 0.04\n",
    "            conta = taxa + (add_m3 * (qnt_metro3 - 100))\n",
    "        \n",
    "        print(\"O valor da conta\", format(num_conta), \"foi: \", format(conta))\n",
    "    \n",
    "else: \n",
    "    print(\"Tipo de Consumidor invalido! \")"
   ]
  },
  {
   "cell_type": "code",
   "execution_count": null,
   "metadata": {},
   "outputs": [],
   "source": [
    "# Questão 3 - Colocar aqui o código da quecont\n",
    "\n",
    "cont_gols_marcados = 0\n",
    "cont_gols_sofridos = 0\n",
    "pontos = 0\n",
    "gols_marcados = int(input(\"Quantos gols o time fez: \"))\n",
    "gols_sofridos = int(input(\"Qualtos gols o time levou: \"))\n",
    "\n",
    "while gols_marcados >= 0 and gols_sofridos >= 0:\n",
    "    \n",
    "    \n",
    "    if gols_marcados > gols_sofridos:\n",
    "        pontos += 3\n",
    "        \n",
    "    elif gols_marcados == gols_sofridos:\n",
    "        pontos += 1\n",
    "    \n",
    "    gols_marcados = int(input(\"Quantos gols o time fez: \"))\n",
    "    gols_sofridos = int(input(\"Qualtos gols o time levou: \"))\n",
    "    \n",
    "print(\"o time fez:\",format(pontos), \" pontos nesta rodada\")"
   ]
  },
  {
   "cell_type": "code",
   "execution_count": null,
   "metadata": {},
   "outputs": [],
   "source": []
  },
  {
   "cell_type": "code",
   "execution_count": null,
   "metadata": {},
   "outputs": [],
   "source": []
  }
 ],
 "metadata": {
  "kernelspec": {
   "display_name": "Python 3",
   "language": "python",
   "name": "python3"
  },
  "language_info": {
   "codemirror_mode": {
    "name": "ipython",
    "version": 3
   },
   "file_extension": ".py",
   "mimetype": "text/x-python",
   "name": "python",
   "nbconvert_exporter": "python",
   "pygments_lexer": "ipython3",
   "version": "3.8.8"
  }
 },
 "nbformat": 4,
 "nbformat_minor": 4
}
