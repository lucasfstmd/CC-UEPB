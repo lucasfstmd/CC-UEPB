{
 "cells": [
  {
   "cell_type": "markdown",
   "metadata": {},
   "source": [
    "IF - ELIF - ElSE"
   ]
  },
  {
   "cell_type": "markdown",
   "metadata": {},
   "source": [
    "Identificar se um número é positivo ou negativo\n",
    "\n",
    "\n",
    "Inicio\n",
    "\n",
    "    leia num\n",
    "    Se num >= 0 Então\n",
    "        Escreva \"positivo\"\n",
    "    Senão\n",
    "        Escreva \"Negativo\"\n",
    "\n",
    "fim\n"
   ]
  },
  {
   "cell_type": "code",
   "execution_count": 2,
   "metadata": {},
   "outputs": [
    {
     "name": "stdout",
     "output_type": "stream",
     "text": [
      "Informe o numero: -9\n",
      "Negativo\n"
     ]
    }
   ],
   "source": [
    "num = int(input(\"Informe o numero: \"))\n",
    "\n",
    "\n",
    "if num >= 0:\n",
    "    print(\"Positivo\")\n",
    "else:\n",
    "    print(\"Negativo\")"
   ]
  },
  {
   "cell_type": "code",
   "execution_count": null,
   "metadata": {},
   "outputs": [],
   "source": [
    "\n",
    "Inicio\n",
    "\n",
    "    leia num\n",
    "    Se num > 0 Então\n",
    "        Escreva \"positivo\"\n",
    "    Senão Se num == 0 Então \n",
    "            Escreva \"Neutro\"\n",
    "          Senão \n",
    "            Escreva \"Negativo\"\n",
    "\n",
    "fim\n"
   ]
  },
  {
   "cell_type": "code",
   "execution_count": 5,
   "metadata": {},
   "outputs": [
    {
     "name": "stdout",
     "output_type": "stream",
     "text": [
      "Informe o numero: -7\n",
      "Negativo\n"
     ]
    }
   ],
   "source": [
    "num = int(input(\"Informe o numero: \"))\n",
    "\n",
    "\n",
    "if num > 0:\n",
    "    print(\"Positivo\")\n",
    "elif num == 0 :\n",
    "    print(\"Neutro\")  \n",
    "else:\n",
    "    print(\"Negativo\")"
   ]
  },
  {
   "cell_type": "code",
   "execution_count": 7,
   "metadata": {},
   "outputs": [
    {
     "name": "stdout",
     "output_type": "stream",
     "text": [
      "Informe o numero: 7\n",
      "impar\n"
     ]
    }
   ],
   "source": [
    "num = int(input(\"Informe o numero: \"))\n",
    "\n",
    "if num % 2 == 0:\n",
    "    print(\"par\")\n",
    "else:\n",
    "    print(\"impar\")"
   ]
  },
  {
   "cell_type": "code",
   "execution_count": 10,
   "metadata": {},
   "outputs": [
    {
     "name": "stdout",
     "output_type": "stream",
     "text": [
      "Informe o numero: 9\n",
      "impar\n"
     ]
    }
   ],
   "source": [
    "num = int(input(\"Informe o numero: \"))\n",
    "\n",
    "if num == 0:\n",
    "    print(\"Neutro\")\n",
    "elif num % 2 == 0:\n",
    "    print(\"par\")\n",
    "else:\n",
    "    print(\"impar\")\n",
    "    \n",
    "    "
   ]
  },
  {
   "cell_type": "markdown",
   "metadata": {},
   "source": [
    "a = ter média maior ou igual a 7.0\n",
    "b = número de faltas inferior a 25%\n",
    "a and b = pagar a disciplina por média\n",
    "\n",
    "\n",
    "a     b     a and b\n",
    "True  True  True\n",
    "True  False False\n",
    "False True  False\n",
    "False False False\n",
    "\n",
    "\n",
    "c = Netflix\n",
    "d = aula de Algoritmos\n",
    "c or d = ficar Feliz\n",
    "\n",
    "\n",
    "c     d     c or d\n",
    "True  True  True\n",
    "True  False True\n",
    "False True  True\n",
    "False False False"
   ]
  },
  {
   "cell_type": "code",
   "execution_count": 11,
   "metadata": {},
   "outputs": [
    {
     "name": "stdout",
     "output_type": "stream",
     "text": [
      "ok\n"
     ]
    }
   ],
   "source": [
    "a = 2\n",
    "b = 3\n",
    "\n",
    "if (a + b == 5) and (b - 3 == 0):\n",
    "    print(\"ok\")\n",
    "else:\n",
    "    print(\"não\")"
   ]
  },
  {
   "cell_type": "markdown",
   "metadata": {},
   "source": [
    "23.\tTendo como dados de entrada a altura e o sexo de uma pessoa, construa um algoritmo que calcule seu peso ideal, utilizando as seguintes fórmulas: para homens: (72.7*h) – 58 e para mulheres: (62.1*h) - 44.7 (h = altura)"
   ]
  },
  {
   "cell_type": "code",
   "execution_count": null,
   "metadata": {},
   "outputs": [],
   "source": [
    "sexo = input(\"Informe h ou m: \")\n",
    "altura = float(input(\"altura: \"))\n",
    "\n",
    "if sexo == \"m\":\n",
    "    pesoIdeal = (62.1 * altura) - 44.7\n",
    "    \n",
    "elif sexo == \"h\":\n",
    "        pesoIdeal = (72.7 * altura) - 58\n",
    "        \n",
    "else: \n",
    "    print(\"Sexo inválido\")\n",
    "    pesoIdeal = 0\n",
    "\n",
    "print(\"pesoIdeal = \", pesoIdeal)"
   ]
  },
  {
   "cell_type": "code",
   "execution_count": null,
   "metadata": {},
   "outputs": [],
   "source": [
    "sexo = input(\"Informe h ou m: \")\n",
    "altura = float(input(\"altura: \"))\n",
    "\n",
    "if sexo == \"m\":\n",
    "    pesoIdeal = (62.1*altura) - 44.7\n",
    "    \n",
    "else:\n",
    "    if sexo == \"h\":\n",
    "        pesoIdeal = (72.7*altura) - 58\n",
    "        \n",
    "    else:\n",
    "        print(\"Sexo inválido\")\n",
    "        pesoIdeal = 0\n",
    "\n",
    "print(\"pesoIdeal = \", pesoIdeal)"
   ]
  },
  {
   "cell_type": "markdown",
   "metadata": {},
   "source": [
    "13.\tFaça um programa que calcule as raízes de uma equação do segundo grau, na forma ax2 + bx + c. O programa deverá pedir os valores de a, b e c e fazer as consistências, informando ao usuário nas seguintes situações: \n",
    "•\t•\tSe o usuário informar o valor de A igual a zero, a equação não é do segundo grau e o programa não deve fazer pedir os demais valores, sendo encerrado; \n",
    "•\tSe o delta calculado for negativo, a equação não possui raizes reais. Informe ao usuário e encerre o programa; \n",
    "•\tSe o delta calculado for igual a zero a equação possui apenas uma raiz real; informe-a ao usuário; \n",
    "•\tSe o delta for positivo, a equação possui duas raiz reais; informe-as ao usuário; \n"
   ]
  },
  {
   "cell_type": "code",
   "execution_count": null,
   "metadata": {},
   "outputs": [],
   "source": [
    "a = float(input(\"valor a: \"))\n",
    "\n",
    "if a == 0:\n",
    "    print(\"Não é do segundo grau\")\n",
    "\n",
    "else:\n",
    "    b = float(input(\"valor b: \"))\n",
    "    c = float(input(\"valor c: \"))\n",
    "    \n",
    "    delta = b**2 - 4*a*c\n",
    "    \n",
    "    if delta < 0:\n",
    "        print(\"Não há raízes reais\")\n",
    "    elif delta == 0:\n",
    "        raiz = -b/(2*a)\n",
    "        print(raiz)\n",
    "    else:\n",
    "        x1 = (-b + delta ** 0.5)/(2*a)\n",
    "        x2 = (-b - delta ** 0.5)/(2*a)\n",
    "        print(x1,x2)\n",
    "        "
   ]
  }
 ],
 "metadata": {
  "kernelspec": {
   "display_name": "Python 3",
   "language": "python",
   "name": "python3"
  },
  "language_info": {
   "codemirror_mode": {
    "name": "ipython",
    "version": 3
   },
   "file_extension": ".py",
   "mimetype": "text/x-python",
   "name": "python",
   "nbconvert_exporter": "python",
   "pygments_lexer": "ipython3",
   "version": "3.8.3"
  }
 },
 "nbformat": 4,
 "nbformat_minor": 4
}
